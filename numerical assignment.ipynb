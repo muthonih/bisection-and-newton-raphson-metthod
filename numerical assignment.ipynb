{
 "cells": [
  {
   "cell_type": "code",
   "execution_count": 1,
   "id": "0621dc26",
   "metadata": {},
   "outputs": [
    {
     "name": "stdout",
     "output_type": "stream",
     "text": [
      "Root found at x =2.092090\n",
      "Execution time: 0.00023 seconds\n",
      "23\n"
     ]
    }
   ],
   "source": [
    "# BISECTION\n",
    "import timeit\n",
    "import math\n",
    "\n",
    "\n",
    "def f(x):\n",
    "    return x**4 - x**3 -10\n",
    "a=2\n",
    "b=3\n",
    "tolerance =1e-6\n",
    "max_iterations =100\n",
    "count=0\n",
    "def bisection():\n",
    "    global a,b, count\n",
    "    for i in range(max_iterations): \n",
    "        c=(a+b)/2\n",
    "        count +=1\n",
    "        if abs(f(c)) < tolerance:\n",
    "            print(f\"Root found at x ={c:.6f}\")\n",
    "            break\n",
    "        elif f(c)*f(a)<0 :\n",
    "            b=c\n",
    "        else:\n",
    "            a=c\n",
    "#measure the execution time of bisection\n",
    "execution_time = timeit.timeit(bisection, number=1)\n",
    "\n",
    "# Print the execution time\n",
    "print(f\"Execution time: {execution_time:.5f} seconds\")\n",
    "\n",
    "#print count\n",
    "print(count)\n",
    "\n",
    "\n",
    "\n",
    "\n",
    "\n",
    "\n",
    "\n",
    "\n",
    "        \n",
    "    \n"
   ]
  },
  {
   "cell_type": "code",
   "execution_count": 11,
   "id": "53b74c0a",
   "metadata": {},
   "outputs": [
    {
     "name": "stdout",
     "output_type": "stream",
     "text": [
      "Root found at x =2.092090\n",
      "Execution time: 0.00043 seconds\n",
      "count is: 11 in total\n"
     ]
    }
   ],
   "source": [
    "#newton raphson\n",
    "import math\n",
    "import timeit\n",
    "\n",
    "\n",
    "def f(x):\n",
    "    return x**4 - x**3 -10\n",
    "def df(x):\n",
    "    return 4*x**3 - 3*x**2\n",
    "\n",
    "x0=1\n",
    "tolerance=1e-6\n",
    "max_iteration = 100\n",
    "count =0\n",
    "\n",
    "def newton_raphson():\n",
    "    global x0, count,tolerance,max_iteration\n",
    "    for i in range (max_iteration):\n",
    "        fx=f(x0)\n",
    "        dfx =df(x0)\n",
    "        x1 =x0 -f(x0)/df(x0)\n",
    "        count+=1\n",
    "        if abs (f(x1)) < tolerance:\n",
    "            print(f\"Root found at x ={x1:.6f}\")\n",
    "            break\n",
    "        else:\n",
    "            x0 = x1\n",
    "\n",
    "# Measure the execution time of newton_raphson\n",
    "execution_time = timeit.timeit(newton_raphson, number=1)\n",
    "\n",
    "# Print the execution time\n",
    "print(f\"Execution time: {execution_time:.5f} seconds\")\n",
    "\n",
    "\n",
    "print(f\"count is: {count} in total\")\n",
    "\n",
    "\n",
    "\n",
    "\n",
    "\n"
   ]
  },
  {
   "cell_type": "code",
   "execution_count": null,
   "id": "3d5f59b6",
   "metadata": {},
   "outputs": [],
   "source": []
  }
 ],
 "metadata": {
  "kernelspec": {
   "display_name": "Python 3 (ipykernel)",
   "language": "python",
   "name": "python3"
  },
  "language_info": {
   "codemirror_mode": {
    "name": "ipython",
    "version": 3
   },
   "file_extension": ".py",
   "mimetype": "text/x-python",
   "name": "python",
   "nbconvert_exporter": "python",
   "pygments_lexer": "ipython3",
   "version": "3.9.13"
  }
 },
 "nbformat": 4,
 "nbformat_minor": 5
}
